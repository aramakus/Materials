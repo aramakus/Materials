{
 "cells": [
  {
   "cell_type": "markdown",
   "metadata": {},
   "source": [
    "## Data scraping from Bureau of Meteorology website"
   ]
  },
  {
   "cell_type": "markdown",
   "metadata": {},
   "source": [
    "A list of all meteorological stations, including those decomissioned in the past, from the Bureau of Meteorology. "
   ]
  },
  {
   "cell_type": "code",
   "execution_count": 182,
   "metadata": {},
   "outputs": [],
   "source": [
    "import requests\n",
    "import pandas as pd\n",
    "import numpy as np\n",
    "from datetime import datetime\n",
    "import re"
   ]
  },
  {
   "cell_type": "code",
   "execution_count": 183,
   "metadata": {},
   "outputs": [],
   "source": [
    "request = requests.get(\"http://www.bom.gov.au/climate/data/lists_by_element/alphaVIC_123.txt\")"
   ]
  },
  {
   "cell_type": "markdown",
   "metadata": {},
   "source": [
    "The data requires some processing and formating. Below function does that."
   ]
  },
  {
   "cell_type": "code",
   "execution_count": 184,
   "metadata": {},
   "outputs": [],
   "source": [
    "def clean_meteo_record(row):\n",
    "    \"\"\"\n",
    "    Function to format a meteostation records.\n",
    "    Order will change, columns start with:\n",
    "        'Name', 'Start', 'End', ...\n",
    "        \n",
    "    and in default order from there.\n",
    "    \"\"\"\n",
    "    date_pttn = re.compile(\"[A-Z]{1}[a-z]{2}\\s[0-9]{4}\")\n",
    "    \n",
    "    [start, end] = date_pttn.findall(row)\n",
    "    rest = re.sub(date_pttn, \"\", row) \n",
    "    \n",
    "    site = rest.strip().split()[0] \n",
    "    rest = \" \".join(rest.strip().split()[1:])\n",
    "    \n",
    "    if rest[-1] not in ['N', 'Y']: rest += \" N\" # There is one missing value\n",
    "        \n",
    "    name = \" \".join(rest.split()[:-5])\n",
    "    rest = rest.split()[-5:]\n",
    "    \n",
    "    return [site, name, start, end, *rest]"
   ]
  },
  {
   "cell_type": "code",
   "execution_count": 185,
   "metadata": {},
   "outputs": [
    {
     "data": {
      "text/html": [
       "<div>\n",
       "<style scoped>\n",
       "    .dataframe tbody tr th:only-of-type {\n",
       "        vertical-align: middle;\n",
       "    }\n",
       "\n",
       "    .dataframe tbody tr th {\n",
       "        vertical-align: top;\n",
       "    }\n",
       "\n",
       "    .dataframe thead th {\n",
       "        text-align: right;\n",
       "    }\n",
       "</style>\n",
       "<table border=\"1\" class=\"dataframe\">\n",
       "  <thead>\n",
       "    <tr style=\"text-align: right;\">\n",
       "      <th></th>\n",
       "      <th>Site</th>\n",
       "      <th>Name</th>\n",
       "      <th>Start</th>\n",
       "      <th>End</th>\n",
       "      <th>Lat</th>\n",
       "      <th>Lon</th>\n",
       "      <th>Years</th>\n",
       "      <th>%</th>\n",
       "      <th>AWS</th>\n",
       "    </tr>\n",
       "  </thead>\n",
       "  <tbody>\n",
       "    <tr>\n",
       "      <th>0</th>\n",
       "      <td>85000</td>\n",
       "      <td>ABERFELDY</td>\n",
       "      <td>Sep 1969</td>\n",
       "      <td>Oct 1974</td>\n",
       "      <td>-37.700001</td>\n",
       "      <td>146.366699</td>\n",
       "      <td>5.100000</td>\n",
       "      <td>95.0</td>\n",
       "      <td>N</td>\n",
       "    </tr>\n",
       "    <tr>\n",
       "      <th>1</th>\n",
       "      <td>90180</td>\n",
       "      <td>AIREYS INLET</td>\n",
       "      <td>Jul 1990</td>\n",
       "      <td>Oct 2020</td>\n",
       "      <td>-38.458302</td>\n",
       "      <td>144.088303</td>\n",
       "      <td>30.299999</td>\n",
       "      <td>97.0</td>\n",
       "      <td>Y</td>\n",
       "    </tr>\n",
       "    <tr>\n",
       "      <th>2</th>\n",
       "      <td>88001</td>\n",
       "      <td>ALEXANDRA (POST OFFICE)</td>\n",
       "      <td>Jan 1965</td>\n",
       "      <td>Feb 1970</td>\n",
       "      <td>-37.191601</td>\n",
       "      <td>145.711594</td>\n",
       "      <td>5.200000</td>\n",
       "      <td>83.0</td>\n",
       "      <td>N</td>\n",
       "    </tr>\n",
       "    <tr>\n",
       "      <th>3</th>\n",
       "      <td>89000</td>\n",
       "      <td>ARARAT POST OFFICE</td>\n",
       "      <td>Jan 1962</td>\n",
       "      <td>Apr 1969</td>\n",
       "      <td>-37.283298</td>\n",
       "      <td>142.949997</td>\n",
       "      <td>7.300000</td>\n",
       "      <td>98.0</td>\n",
       "      <td>N</td>\n",
       "    </tr>\n",
       "    <tr>\n",
       "      <th>4</th>\n",
       "      <td>89085</td>\n",
       "      <td>ARARAT PRISON</td>\n",
       "      <td>Jun 1969</td>\n",
       "      <td>Oct 2020</td>\n",
       "      <td>-37.276901</td>\n",
       "      <td>142.978607</td>\n",
       "      <td>51.400002</td>\n",
       "      <td>99.0</td>\n",
       "      <td>N</td>\n",
       "    </tr>\n",
       "    <tr>\n",
       "      <th>...</th>\n",
       "      <td>...</td>\n",
       "      <td>...</td>\n",
       "      <td>...</td>\n",
       "      <td>...</td>\n",
       "      <td>...</td>\n",
       "      <td>...</td>\n",
       "      <td>...</td>\n",
       "      <td>...</td>\n",
       "      <td>...</td>\n",
       "    </tr>\n",
       "    <tr>\n",
       "      <th>253</th>\n",
       "      <td>85098</td>\n",
       "      <td>YALLOURN</td>\n",
       "      <td>Apr 1932</td>\n",
       "      <td>Oct 1949</td>\n",
       "      <td>-38.200001</td>\n",
       "      <td>146.399994</td>\n",
       "      <td>17.600000</td>\n",
       "      <td>100.0</td>\n",
       "      <td>N</td>\n",
       "    </tr>\n",
       "    <tr>\n",
       "      <th>254</th>\n",
       "      <td>85103</td>\n",
       "      <td>YALLOURN SEC</td>\n",
       "      <td>Jan 1957</td>\n",
       "      <td>Sep 1986</td>\n",
       "      <td>-38.185799</td>\n",
       "      <td>146.331696</td>\n",
       "      <td>29.700001</td>\n",
       "      <td>99.0</td>\n",
       "      <td>N</td>\n",
       "    </tr>\n",
       "    <tr>\n",
       "      <th>255</th>\n",
       "      <td>85151</td>\n",
       "      <td>YARRAM AIRPORT</td>\n",
       "      <td>Oct 2007</td>\n",
       "      <td>Oct 2020</td>\n",
       "      <td>-38.564701</td>\n",
       "      <td>146.747894</td>\n",
       "      <td>13.100000</td>\n",
       "      <td>97.0</td>\n",
       "      <td>Y</td>\n",
       "    </tr>\n",
       "    <tr>\n",
       "      <th>256</th>\n",
       "      <td>81124</td>\n",
       "      <td>YARRAWONGA</td>\n",
       "      <td>May 1993</td>\n",
       "      <td>Oct 2020</td>\n",
       "      <td>-36.029400</td>\n",
       "      <td>146.030502</td>\n",
       "      <td>27.299999</td>\n",
       "      <td>97.0</td>\n",
       "      <td>Y</td>\n",
       "    </tr>\n",
       "    <tr>\n",
       "      <th>257</th>\n",
       "      <td>81057</td>\n",
       "      <td>YARRAWONGA POST OFFICE</td>\n",
       "      <td>Jan 1965</td>\n",
       "      <td>Sep 1975</td>\n",
       "      <td>-36.028099</td>\n",
       "      <td>146.004395</td>\n",
       "      <td>10.800000</td>\n",
       "      <td>90.0</td>\n",
       "      <td>N</td>\n",
       "    </tr>\n",
       "  </tbody>\n",
       "</table>\n",
       "<p>258 rows × 9 columns</p>\n",
       "</div>"
      ],
      "text/plain": [
       "      Site                     Name     Start       End        Lat  \\\n",
       "0    85000                ABERFELDY  Sep 1969  Oct 1974 -37.700001   \n",
       "1    90180             AIREYS INLET  Jul 1990  Oct 2020 -38.458302   \n",
       "2    88001  ALEXANDRA (POST OFFICE)  Jan 1965  Feb 1970 -37.191601   \n",
       "3    89000       ARARAT POST OFFICE  Jan 1962  Apr 1969 -37.283298   \n",
       "4    89085            ARARAT PRISON  Jun 1969  Oct 2020 -37.276901   \n",
       "..     ...                      ...       ...       ...        ...   \n",
       "253  85098                 YALLOURN  Apr 1932  Oct 1949 -38.200001   \n",
       "254  85103             YALLOURN SEC  Jan 1957  Sep 1986 -38.185799   \n",
       "255  85151           YARRAM AIRPORT  Oct 2007  Oct 2020 -38.564701   \n",
       "256  81124               YARRAWONGA  May 1993  Oct 2020 -36.029400   \n",
       "257  81057   YARRAWONGA POST OFFICE  Jan 1965  Sep 1975 -36.028099   \n",
       "\n",
       "            Lon      Years      % AWS  \n",
       "0    146.366699   5.100000   95.0   N  \n",
       "1    144.088303  30.299999   97.0   Y  \n",
       "2    145.711594   5.200000   83.0   N  \n",
       "3    142.949997   7.300000   98.0   N  \n",
       "4    142.978607  51.400002   99.0   N  \n",
       "..          ...        ...    ...  ..  \n",
       "253  146.399994  17.600000  100.0   N  \n",
       "254  146.331696  29.700001   99.0   N  \n",
       "255  146.747894  13.100000   97.0   Y  \n",
       "256  146.030502  27.299999   97.0   Y  \n",
       "257  146.004395  10.800000   90.0   N  \n",
       "\n",
       "[258 rows x 9 columns]"
      ]
     },
     "execution_count": 185,
     "metadata": {},
     "output_type": "execute_result"
    }
   ],
   "source": [
    "columns = ['Site', 'Name', 'Start', 'End', 'Lat', 'Lon', 'Years', '%', 'AWS']\n",
    "\n",
    "df = pd.DataFrame(data=[clean_meteo_record(row) for row in request.text.split(\"\\r\\n\")[4:-7]], \n",
    "                  columns=columns)\n",
    "\n",
    "df.Site = df.Site.astype(np.int32)\n",
    "df.Lat = df.Lat.astype(np.float32)\n",
    "df.Lon = df.Lon.astype(np.float32)\n",
    "df.Years = df.Years.astype(np.float32)\n",
    "df[\"%\"] = df[\"%\"].astype(np.float32)\n",
    "df"
   ]
  },
  {
   "cell_type": "code",
   "execution_count": 186,
   "metadata": {},
   "outputs": [
    {
     "name": "stdout",
     "output_type": "stream",
     "text": [
      "<class 'pandas.core.frame.DataFrame'>\n",
      "RangeIndex: 258 entries, 0 to 257\n",
      "Data columns (total 9 columns):\n",
      " #   Column  Non-Null Count  Dtype  \n",
      "---  ------  --------------  -----  \n",
      " 0   Site    258 non-null    int32  \n",
      " 1   Name    258 non-null    object \n",
      " 2   Start   258 non-null    object \n",
      " 3   End     258 non-null    object \n",
      " 4   Lat     258 non-null    float32\n",
      " 5   Lon     258 non-null    float32\n",
      " 6   Years   258 non-null    float32\n",
      " 7   %       258 non-null    float32\n",
      " 8   AWS     258 non-null    object \n",
      "dtypes: float32(4), int32(1), object(4)\n",
      "memory usage: 13.2+ KB\n"
     ]
    }
   ],
   "source": [
    "df.info()"
   ]
  },
  {
   "cell_type": "markdown",
   "metadata": {},
   "source": [
    "Filter out stations that are currently active"
   ]
  },
  {
   "cell_type": "code",
   "execution_count": 187,
   "metadata": {},
   "outputs": [
    {
     "data": {
      "text/plain": [
       "'Oct 2020'"
      ]
     },
     "execution_count": 187,
     "metadata": {},
     "output_type": "execute_result"
    }
   ],
   "source": [
    "months = ['Jan', 'Feb', 'Mar', 'Apr', 'May', 'Jun', 'Jul', 'Aug', 'Sep', 'Oct', 'Nov', 'Dec']\n",
    "today = datetime.today()\n",
    "this_month = months[today.month-1] + \" \" + str(today.year)\n",
    "this_month"
   ]
  },
  {
   "cell_type": "code",
   "execution_count": 188,
   "metadata": {},
   "outputs": [
    {
     "data": {
      "text/plain": [
       "90"
      ]
     },
     "execution_count": 188,
     "metadata": {},
     "output_type": "execute_result"
    }
   ],
   "source": [
    "station_ids = df[df['End'] == this_month]['Site'].values\n",
    "len(station_ids)"
   ]
  },
  {
   "cell_type": "markdown",
   "metadata": {},
   "source": [
    "As of October 2020, 90 stations are operational in Victoria. Now we can pull the data from 2015 for these stations. The content is in Zip files."
   ]
  },
  {
   "cell_type": "code",
   "execution_count": null,
   "metadata": {},
   "outputs": [],
   "source": []
  }
 ],
 "metadata": {
  "kernelspec": {
   "display_name": "Python (torch)",
   "language": "python",
   "name": "other-env"
  },
  "language_info": {
   "codemirror_mode": {
    "name": "ipython",
    "version": 3
   },
   "file_extension": ".py",
   "mimetype": "text/x-python",
   "name": "python",
   "nbconvert_exporter": "python",
   "pygments_lexer": "ipython3",
   "version": "3.8.2"
  }
 },
 "nbformat": 4,
 "nbformat_minor": 4
}
