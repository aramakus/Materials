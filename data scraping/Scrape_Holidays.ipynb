{
 "cells": [
  {
   "cell_type": "markdown",
   "metadata": {},
   "source": [
    "Script to scrape Victoria public holidays and onsite/remote school dates.<br>\n",
    "\n",
    "Victoria public holidays are taken from <b>victoriapublicholiday.com.au</b><br>"
   ]
  },
  {
   "cell_type": "code",
   "execution_count": 15,
   "metadata": {},
   "outputs": [],
   "source": [
    "import pandas as pd\n",
    "from bs4 import BeautifulSoup\n",
    "import urllib3\n",
    "import re"
   ]
  },
  {
   "cell_type": "code",
   "execution_count": 16,
   "metadata": {},
   "outputs": [],
   "source": [
    "http = urllib3.PoolManager()"
   ]
  },
  {
   "cell_type": "code",
   "execution_count": 20,
   "metadata": {},
   "outputs": [
    {
     "data": {
      "text/html": [
       "<div>\n",
       "<style scoped>\n",
       "    .dataframe tbody tr th:only-of-type {\n",
       "        vertical-align: middle;\n",
       "    }\n",
       "\n",
       "    .dataframe tbody tr th {\n",
       "        vertical-align: top;\n",
       "    }\n",
       "\n",
       "    .dataframe thead th {\n",
       "        text-align: right;\n",
       "    }\n",
       "</style>\n",
       "<table border=\"1\" class=\"dataframe\">\n",
       "  <thead>\n",
       "    <tr style=\"text-align: right;\">\n",
       "      <th></th>\n",
       "      <th>Holiday</th>\n",
       "      <th>Date</th>\n",
       "      <th>Holiday Type</th>\n",
       "      <th>Area</th>\n",
       "    </tr>\n",
       "  </thead>\n",
       "  <tbody>\n",
       "    <tr>\n",
       "      <th>0</th>\n",
       "      <td>New Year's Day</td>\n",
       "      <td>Thursday, 1 January 2015</td>\n",
       "      <td>Public</td>\n",
       "      <td>Vic Wide</td>\n",
       "    </tr>\n",
       "    <tr>\n",
       "      <th>1</th>\n",
       "      <td>Australia Day</td>\n",
       "      <td>Monday, 26 January 2015</td>\n",
       "      <td>Public</td>\n",
       "      <td>Vic Wide</td>\n",
       "    </tr>\n",
       "    <tr>\n",
       "      <th>2</th>\n",
       "      <td>Labour Day</td>\n",
       "      <td>Monday, 9 March 2015</td>\n",
       "      <td>Public</td>\n",
       "      <td>Vic Wide</td>\n",
       "    </tr>\n",
       "    <tr>\n",
       "      <th>3</th>\n",
       "      <td>Good Friday</td>\n",
       "      <td>Friday, 3 April 2015</td>\n",
       "      <td>Public</td>\n",
       "      <td>Vic Wide</td>\n",
       "    </tr>\n",
       "    <tr>\n",
       "      <th>4</th>\n",
       "      <td>Saturday before Easter Sunday</td>\n",
       "      <td>Saturday, 4 April 2015</td>\n",
       "      <td>Public</td>\n",
       "      <td>Vic Wide</td>\n",
       "    </tr>\n",
       "    <tr>\n",
       "      <th>...</th>\n",
       "      <td>...</td>\n",
       "      <td>...</td>\n",
       "      <td>...</td>\n",
       "      <td>...</td>\n",
       "    </tr>\n",
       "    <tr>\n",
       "      <th>77</th>\n",
       "      <td>Friday before AFL Grand Final Holiday</td>\n",
       "      <td>Friday, 23 October 2020</td>\n",
       "      <td>Public</td>\n",
       "      <td>Vic Wide</td>\n",
       "    </tr>\n",
       "    <tr>\n",
       "      <th>78</th>\n",
       "      <td>*Melbourne Cup</td>\n",
       "      <td>Tuesday, 3 November 2020</td>\n",
       "      <td>Public</td>\n",
       "      <td>Vic Most Areas</td>\n",
       "    </tr>\n",
       "    <tr>\n",
       "      <th>79</th>\n",
       "      <td>Christmas Day</td>\n",
       "      <td>Friday, 25 December 2020</td>\n",
       "      <td>Public</td>\n",
       "      <td>Vic Wide</td>\n",
       "    </tr>\n",
       "    <tr>\n",
       "      <th>80</th>\n",
       "      <td>Boxing Day</td>\n",
       "      <td>Saturday, 26 December 2020</td>\n",
       "      <td>Public</td>\n",
       "      <td>Vic Wide</td>\n",
       "    </tr>\n",
       "    <tr>\n",
       "      <th>81</th>\n",
       "      <td>Boxing Day Additional Holiday</td>\n",
       "      <td>Monday, 28 December 2020</td>\n",
       "      <td>Public</td>\n",
       "      <td>Vic Wide</td>\n",
       "    </tr>\n",
       "  </tbody>\n",
       "</table>\n",
       "<p>82 rows × 4 columns</p>\n",
       "</div>"
      ],
      "text/plain": [
       "                                  Holiday                        Date  \\\n",
       "0                          New Year's Day    Thursday, 1 January 2015   \n",
       "1                           Australia Day     Monday, 26 January 2015   \n",
       "2                              Labour Day        Monday, 9 March 2015   \n",
       "3                             Good Friday        Friday, 3 April 2015   \n",
       "4           Saturday before Easter Sunday      Saturday, 4 April 2015   \n",
       "..                                    ...                         ...   \n",
       "77  Friday before AFL Grand Final Holiday     Friday, 23 October 2020   \n",
       "78                         *Melbourne Cup    Tuesday, 3 November 2020   \n",
       "79                          Christmas Day    Friday, 25 December 2020   \n",
       "80                             Boxing Day  Saturday, 26 December 2020   \n",
       "81          Boxing Day Additional Holiday    Monday, 28 December 2020   \n",
       "\n",
       "   Holiday Type            Area  \n",
       "0        Public        Vic Wide  \n",
       "1        Public        Vic Wide  \n",
       "2        Public        Vic Wide  \n",
       "3        Public        Vic Wide  \n",
       "4        Public        Vic Wide  \n",
       "..          ...             ...  \n",
       "77       Public        Vic Wide  \n",
       "78       Public  Vic Most Areas  \n",
       "79       Public        Vic Wide  \n",
       "80       Public        Vic Wide  \n",
       "81       Public        Vic Wide  \n",
       "\n",
       "[82 rows x 4 columns]"
      ]
     },
     "execution_count": 20,
     "metadata": {},
     "output_type": "execute_result"
    }
   ],
   "source": [
    "rows = []\n",
    "columns = []\n",
    "for year in range(2015, 2021):\n",
    "    url = f'https://victoriapublicholiday.com.au/{year}-holiday-list'\n",
    "    response = http.request('GET', url)\n",
    "\n",
    "    soup = BeautifulSoup(response.data)\n",
    "\n",
    "    table = soup.find('div', attrs={ \"class\" : \"table\"})\n",
    "\n",
    "    headers = [header.text for header in table.find_all('th')]\n",
    "\n",
    "    for row in table.find_all('tr'):\n",
    "        rows.append([val.text for val in row.find_all('td')])\n",
    "    \n",
    "    if columns == []: columns = [c.text for c in table.find_all('th')]\n",
    "    \n",
    "rows = [r for r in rows if r != []]\n",
    "\n",
    "df = pd.DataFrame(data = rows, columns = columns)\n",
    "df"
   ]
  },
  {
   "cell_type": "code",
   "execution_count": 21,
   "metadata": {},
   "outputs": [],
   "source": [
    "df['Date'] = df['Date'].apply(lambda x: x.split(',')[1].strip())\n",
    "df[['Holiday', 'Date']].to_csv(\"Vic_Holidays.csv\", index=False)"
   ]
  },
  {
   "cell_type": "markdown",
   "metadata": {},
   "source": [
    "<b>In 2020 Victorian schools were partially and then completely moved to remote education.</b> \n",
    "Public schools moved to remote not in sync with private schools. <b>For simplicity assume all schools went remote a the same time.</b> Below is a timeline of relevant events extracted from news/@DanielAndrewsMP:\n",
    "\n",
    "- Term 2 remote from the start (https://twitter.com/DanielAndrewsMP/status/1247406308178849794).\n",
    "- End remote on 26 May (https://twitter.com/DanielAndrewsMP/status/1259975151371776000/photo/1).\n",
    "\n",
    "- Term 3 remote from 4 August (https://www.abc.net.au/news/2020-08-02/coronavirus-changes-victorian-schools-and-child-care-explained/12516544) due to stage 4 lockdown until the end.\n",
    "\n",
    "- Term 4 started remote (up until the end day of this data series).\n",
    "\n",
    "<b>Change school terms schedule to account for onsite dates only.</b>"
   ]
  },
  {
   "cell_type": "code",
   "execution_count": 9,
   "metadata": {},
   "outputs": [
    {
     "data": {
      "text/plain": [
       "['terms\\tStart date\\tFinish date',\n",
       " 'Term 1\\t29 January 2020\\t24 March 2020',\n",
       " 'Term 2\\t15 April 2020\\t26 June 2020',\n",
       " 'Term 3\\t13 July 2020\\t18 September 2020',\n",
       " 'Term 4\\t5 October 2020\\t18 December 2020',\n",
       " 'Term 1\\t30 January 2019\\t5 April 2019',\n",
       " 'Term 2\\t23 April 2019\\t28 June 2019',\n",
       " 'Term 3\\t15 July 2019\\t20 September 2019',\n",
       " 'Term 4\\t7 October 2019\\t20 December 2019',\n",
       " 'Term 1\\t30 January 2018\\t29 March 2018']"
      ]
     },
     "execution_count": 9,
     "metadata": {},
     "output_type": "execute_result"
    }
   ],
   "source": [
    "with open(\"School term days.txt\") as f:\n",
    "    rows = f.readlines()\n",
    "\n",
    "rows = [r.strip() for r in rows]\n",
    "\n",
    "rows[:10]"
   ]
  },
  {
   "cell_type": "code",
   "execution_count": 10,
   "metadata": {},
   "outputs": [
    {
     "data": {
      "text/plain": [
       "[['terms', ' Start date', ' Finish date'],\n",
       " ['Term 1', ' 29 January 2020', ' 24 March 2020'],\n",
       " ['Term 2', ' 15 April 2020', ' 26 June 2020'],\n",
       " ['Term 3', ' 13 July 2020', ' 18 September 2020'],\n",
       " ['Term 4', ' 5 October 2020', ' 18 December 2020'],\n",
       " ['Term 1', ' 30 January 2019', ' 5 April 2019'],\n",
       " ['Term 2', ' 23 April 2019', ' 28 June 2019'],\n",
       " ['Term 3', ' 15 July 2019', ' 20 September 2019'],\n",
       " ['Term 4', ' 7 October 2019', ' 20 December 2019'],\n",
       " ['Term 1', ' 30 January 2018', ' 29 March 2018']]"
      ]
     },
     "execution_count": 10,
     "metadata": {},
     "output_type": "execute_result"
    }
   ],
   "source": [
    "tabs_pttn = re.compile('(\\\\t)+')\n",
    "rows = [tabs_pttn.sub(\", \", r).split(',') for r in rows]\n",
    "rows[:10]"
   ]
  },
  {
   "cell_type": "code",
   "execution_count": 11,
   "metadata": {},
   "outputs": [],
   "source": [
    "df = pd.DataFrame(data = rows[1:], columns = [r.strip() for r in rows[0]])\n",
    "for col in df.columns:\n",
    "    df[col] = df[col].apply(lambda x: x.strip())"
   ]
  },
  {
   "cell_type": "code",
   "execution_count": 13,
   "metadata": {},
   "outputs": [],
   "source": [
    "df['Start date'][3] = '7 October 2020'\n",
    "df['Finish date'][2] = '4 August 2020'\n",
    "df['Start date'][1] = '26 May 2020'\n",
    "df = df.drop([3])"
   ]
  },
  {
   "cell_type": "code",
   "execution_count": 14,
   "metadata": {},
   "outputs": [],
   "source": [
    "df.to_csv('Vic_School_Terms.csv', index=False)"
   ]
  },
  {
   "cell_type": "code",
   "execution_count": null,
   "metadata": {},
   "outputs": [],
   "source": []
  }
 ],
 "metadata": {
  "kernelspec": {
   "display_name": "Python (torch)",
   "language": "python",
   "name": "other-env"
  },
  "language_info": {
   "codemirror_mode": {
    "name": "ipython",
    "version": 3
   },
   "file_extension": ".py",
   "mimetype": "text/x-python",
   "name": "python",
   "nbconvert_exporter": "python",
   "pygments_lexer": "ipython3",
   "version": "3.8.2"
  }
 },
 "nbformat": 4,
 "nbformat_minor": 4
}
